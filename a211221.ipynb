{
 "cells": [
  {
   "cell_type": "markdown",
   "metadata": {},
   "source": [
    "- **[간단설명]**\n",
    "\n",
    "1부터 31까지의 숫자를 플레이어와 컴퓨터가 번갈아 가면서 순서대로 말합니다. 숫자를 말할 때는 1개부터 3개까지의 연속된 숫자를 말할 수 있습니다. 즉, 처음 시작하는 사람이 무조건 1 혹은 1, 2 혹은 1, 2, 3을 말하면서 시작하고, 그 뒷 사람은 앞 사람이 말한 숫자에 이어서 또 1개\\~3개의 연속된 숫자를 차례대로 말하는 방식입니다. (앞 사람이 3까지 불렀다면, 뒷 사람은 4 혹은 4, 5 혹은 4, 5, 6을 말해야 합니다.) 그렇게 해서 31을 부르는 사람이 지는 게임입니다.\n",
    "\n",
    "- **[상세설명]**\n",
    "\n",
    "1. 컴퓨터가 먼저 숫자를 말할지, 플레이어가 먼저 숫자를 말할지는 랜덤으로 정한다.\n",
    "\n",
    "2. 컴퓨터 혹은 플레이어는 1 혹은 1, 2 혹은 1, 2, 3을 말하면서 게임을 시작한다. \n",
    "(단, 컴퓨터가 숫자를 1개 부를지, 2개 부를지, 3개 부를지는 random 패키지를 이용해서 랜덤으로 정한다. \n",
    "플레이어는 input 함수를 통해서 연속해서 부르고 싶은 숫자 개수를 입력한다.)\n",
    "\n",
    "3. 컴퓨터 혹은 플레이어는 앞 사람이 부른 숫자에 이어서, 1개~3개까지의 연속된 숫자를 말한다.\n",
    "\n",
    "4. 2\\~3번을 31을 말하는 사람이 나올 때까지 반복한다. \n",
    "(즉, 2\\~3번을 for문 혹은 while문으로 작성할 것. 단, 컴퓨터와 플레이어 모두 31을 초과해서 숫자를 부를 수는 없다.)\n",
    "\n",
    "5. 31을 말하는 사람이 컴퓨터라면 '플레이어 승'을, 31을 말하는 사람이 플레이어라면 '컴퓨터 승'을 출력한다.\n",
    "(가능하다면, 컴퓨터가 숫자를 뽑는 코드와 플레이어가 숫자를 뽑는 코드는 함수화를 해보세요!)"
   ]
  },
  {
   "cell_type": "code",
   "execution_count": 96,
   "metadata": {},
   "outputs": [
    {
     "name": "stdout",
     "output_type": "stream",
     "text": [
      "[31, 30, 29, 28, 27, 26, 25, 24, 23, 22, 21, 20, 19, 18, 17, 16, 15, 14, 13, 12, 11, 10, 9, 8, 7, 6, 5, 4, 3, 2, 1]\n",
      "1\n",
      "당신의 후공\n",
      "1\n"
     ]
    }
   ],
   "source": [
    "import random\n",
    "\n",
    "def turn():\n",
    "    turn = random.randint(0, 1)\n",
    "    return turn\n",
    "\n",
    "\n",
    "def enter():\n",
    "    user = int(input(\"\"))\n",
    "    i = [1,2,3]\n",
    "    while user in i:\n",
    "        return user\n",
    "    else:\n",
    "        print(\"다시 입력하세요\")\n",
    "        enter()\n",
    "        \n",
    "    \n",
    "def ply_turn(lst, enter):\n",
    "\n",
    "    for i in range(enter):\n",
    "        print(lst.pop())\n",
    "    # if enter == 1:\n",
    "    #     print(lst.pop())\n",
    "\n",
    "    # elif enter == 2:\n",
    "    #     print(lst.pop())\n",
    "    #     print(lst.pop())\n",
    "            \n",
    "    # elif enter == 3:\n",
    "    #     print(lst.pop())\n",
    "    #     print(lst.pop())\n",
    "    #     print(lst.pop())\n",
    "\n",
    "  \n",
    "def com_turn(lst):\n",
    "    com_answer = random.randint(1, 3)\n",
    "    if com_answer == 1:\n",
    "        print(lst.pop())\n",
    "        \n",
    "    elif com_answer == 2:\n",
    "        print(lst.pop())\n",
    "        print(lst.pop())\n",
    "            \n",
    "    elif com_answer == 3:\n",
    "        print(lst.pop())\n",
    "        print(lst.pop())\n",
    "        print(lst.pop())\n",
    "\n",
    "\n",
    "def sequence():\n",
    "    lst = (list(range(1,32)))\n",
    "    lst.reverse()\n",
    "    print(type(lst))\n",
    "    turned = turn()\n",
    "    for count in range(len(lst)):\n",
    "        while turned == 1:\n",
    "            print(\"당신의 순서입니다.\")\n",
    "            answer = enter()\n",
    "            ply_turn(lst, answer)\n",
    "            com_turn(lst)\n",
    "        \n",
    "\n",
    "        else:\n",
    "            print(\"당신의 순서입니다.\") \n",
    "            com_turn(lst)\n",
    "            answer = enter()\n",
    "            ply_turn(lst, answer)\n",
    "        \n",
    "sequence()\n",
    "\n"
   ]
  },
  {
   "cell_type": "code",
   "execution_count": null,
   "metadata": {},
   "outputs": [],
   "source": []
  }
 ],
 "metadata": {
  "interpreter": {
   "hash": "1f0c7602c82e39efa19a01e5e068584db7a6d17aff8711ab06660aac81377393"
  },
  "kernelspec": {
   "display_name": "Python 3.10.0 64-bit ('py310': conda)",
   "language": "python",
   "name": "python3"
  },
  "language_info": {
   "codemirror_mode": {
    "name": "ipython",
    "version": 3
   },
   "file_extension": ".py",
   "mimetype": "text/x-python",
   "name": "python",
   "nbconvert_exporter": "python",
   "pygments_lexer": "ipython3",
   "version": "3.10.0"
  },
  "orig_nbformat": 4
 },
 "nbformat": 4,
 "nbformat_minor": 2
}
