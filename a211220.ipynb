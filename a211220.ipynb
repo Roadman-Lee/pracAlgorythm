{
 "cells": [
  {
   "cell_type": "markdown",
   "metadata": {},
   "source": [
    "**[간단설명]**\n",
    "\n",
    "컴퓨터가 1~100 중에서 임의의 수를 랜덤으로 정하면, 플레이어가 해당 수를 맞히는 게임입니다. \n",
    "컴퓨터가 정한 수가 플레이어가 말한 수보다 작으면 컴퓨터는 '업'이라고 말하고, 크다면 컴퓨터는 '다운'이라고 말해서 힌트를 줍니다. \n",
    "플레이어는 힌트를 토대로 3회 안에 컴퓨터가 정한 수를 맞혀야 합니다.\n",
    "\n",
    "**[상세설명]**\n",
    "\n",
    "1. 컴퓨터가 1~100 중에서 임의의 수(C)를 랜덤으로 정한다. (random 패키지에 있는 randrange 함수를 사용할 것)\n",
    "2. 플레이어가 input 함수를 통해서 임의의 수(P)를 입력한다.\n",
    "3. 컴퓨터는 C와 P를 비교하여, 업 / 다운 중 하나를 출력한다. (비교할 때는 if문을 사용할 것, '업' 혹은 '다운'은 print 문을 통해서 출력할 것)\n",
    "\n",
    "업: 자신의 수(C)가 플레이어가 정한 임의의 수(P)보다 높은 경우\n",
    "\n",
    "다운: 자신의 수(C)가 플레이어가 정한 임의의 수(P)보다 높은 경우\n",
    "\n",
    "1. 2~3번을 2번 더 반복한다. (즉, 2~3번을 for문으로 작성할 것)\n",
    "2. 플레이어가 총 5회 안에 컴퓨터가 정한 수를 맞히면 '성공', 맞히지 못하면 '실패' 를 출력한다."
   ]
  },
  {
   "cell_type": "code",
   "execution_count": 4,
   "metadata": {},
   "outputs": [
    {
     "name": "stdout",
     "output_type": "stream",
     "text": [
      "<class 'int'>\n"
     ]
    }
   ],
   "source": [
    "import random\n",
    "import sys\n",
    "\n",
    "\n",
    "def up_down():\n",
    "    Int = random.randrange(0,100)\n",
    "    # print(Int)\n",
    "    count = 0\n",
    "    for i in range(5):\n",
    "        user = sys.stdin.readline() \n",
    "        count += 1\n",
    "        if Int > int(user):\n",
    "            print(\"업\")\n",
    "            if count == 5 and Int != user:\n",
    "                return print(\"못마췄지롱~\")\n",
    "                \n",
    "        elif Int < int(user):\n",
    "            print(\"다운\")\n",
    "            if count == 5 and Int != user:\n",
    "                return print(\"못마췄지롱~\")\n",
    "        \n",
    "        elif Int == int(user):\n",
    "            return print(\"정답\")\n",
    "        \n",
    "        elif count == 5 and Int == user:\n",
    "            return print(\"정답\")\n",
    "        \n",
    "        elif count == 5 and Int != user:\n",
    "            return print(\"못마췄지롱~\")\n",
    "                \n",
    "up_down()"
   ]
  },
  {
   "cell_type": "markdown",
   "metadata": {},
   "source": [
    "**[간단설명]**\n",
    "\n",
    "플레이어가 1~100 중에서 임의의 수를 정하면, 컴퓨터가 해당 수를 맞히는 게임입니다. \n",
    "플레이어가 정한 수가 컴퓨터가 말한 수보다 작으면 플레이어는 '업'이라고 말하고, 크다면 플레이어는 '다운'이라고 말해서 힌트를 줍니다. \n",
    "컴퓨터는 플레이어가 주는 힌트를 토대로, 수를 맞힐 때까지 계속해서 시도합니다.\n",
    "\n",
    "**[상세설명]**\n",
    "\n",
    "1. 플레이어가 input 함수를 통해서 1~100 중 임의의 수(P)를 입력한다. (1~100 이외의 수를 입력할 경우, 다시 입력하도록 할 것)\n",
    "2. 컴퓨터는 플레이어가 정한 수(P)를 가장 빨리 맞힐 수 있도록 수(C)를 말한다. (randrange는 사용하지 말 것)\n",
    "3. 플레이어는 C와 P를 비교하여, 업 / 다운 중 하나를 입력한다. (직접 '업' 혹은 '다운'을 input 함수를 통해 입력하도록 할 것, 그 이외의 단어를 입력할 경우 다시 입력하도록 할 것, P가 C보다 더 큰데도 플레이어가 거짓말로 '다운'이라고 할 경우에도 다시 입력하도록 할 것)\n",
    "\n",
    "업: 플레이어가 정한 임의의 수(P)가 컴퓨터가 말한 수(C)보다 높은 경우\n",
    "\n",
    "다운: 플레이어가 정한 임의의 수(P)가 컴퓨터가 말한 수(C)보다 낮은 경우\n",
    "\n",
    "1. 2~3번을 컴퓨터가 맞힐 때까지 반복한다. (즉, 2~3번을 while문으로 작성할 것)\n",
    "2. 컴퓨터가 수를 맞히면 '성공'을 출력한다."
   ]
  },
  {
   "cell_type": "code",
   "execution_count": null,
   "metadata": {},
   "outputs": [],
   "source": [
    "def com_up_down():\n",
    "    max_num = 100\n",
    "    min_num = 1\n",
    "    user = int(input(\"1~100사이의 수를 입력하시오 : \"))\n",
    "    while True:\n",
    "        com_num = min_num +((max_num-min_num) // 2) \n",
    "        \n",
    "        print(com_num)\n",
    "        if com_num == user:\n",
    "            return print(\"정답\")\n",
    "        elif com_num > user:\n",
    "            userAnswer = str(input())\n",
    "            while userAnswer != \"다운\":\n",
    "                print(\"다시 입력하시오.\")\n",
    "                userAnswer = str(input())\n",
    "            max_num = com_num \n",
    "        else:\n",
    "            userAnswer = str(input())\n",
    "            while userAnswer != \"업\":\n",
    "                print(\"다시 입력하시오.\")\n",
    "                userAnswer = str(input())\n",
    "            min_num = com_num \n",
    "            \n",
    "com_up_down()"
   ]
  },
  {
   "cell_type": "markdown",
   "metadata": {},
   "source": []
  }
 ],
 "metadata": {
  "interpreter": {
   "hash": "1f0c7602c82e39efa19a01e5e068584db7a6d17aff8711ab06660aac81377393"
  },
  "kernelspec": {
   "display_name": "Python 3.10.0 64-bit ('py310': conda)",
   "language": "python",
   "name": "python3"
  },
  "language_info": {
   "codemirror_mode": {
    "name": "ipython",
    "version": 3
   },
   "file_extension": ".py",
   "mimetype": "text/x-python",
   "name": "python",
   "nbconvert_exporter": "python",
   "pygments_lexer": "ipython3",
   "version": "3.10.0"
  },
  "orig_nbformat": 4
 },
 "nbformat": 4,
 "nbformat_minor": 2
}
